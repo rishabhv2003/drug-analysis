{
 "cells": [
  {
   "cell_type": "code",
   "execution_count": 1,
   "id": "8f4a4b16",
   "metadata": {
    "_cell_guid": "b1076dfc-b9ad-4769-8c92-a6c4dae69d19",
    "_uuid": "8f2839f25d086af736a60e9eeb907d3b93b6e0e5",
    "execution": {
     "iopub.execute_input": "2024-04-29T09:44:32.802112Z",
     "iopub.status.busy": "2024-04-29T09:44:32.801388Z",
     "iopub.status.idle": "2024-04-29T09:44:35.092731Z",
     "shell.execute_reply": "2024-04-29T09:44:35.090998Z"
    },
    "papermill": {
     "duration": 2.300264,
     "end_time": "2024-04-29T09:44:35.095759",
     "exception": false,
     "start_time": "2024-04-29T09:44:32.795495",
     "status": "completed"
    },
    "tags": []
   },
   "outputs": [],
   "source": [
    "import matplotlib\n",
    "import matplotlib.pyplot as plt\n",
    "import seaborn as sns\n",
    "import numpy as np \n",
    "import pandas as pd \n",
    "import os"
   ]
  },
  {
   "cell_type": "code",
   "execution_count": 2,
   "id": "e415ede1",
   "metadata": {
    "execution": {
     "iopub.execute_input": "2024-04-29T09:44:35.105583Z",
     "iopub.status.busy": "2024-04-29T09:44:35.104974Z",
     "iopub.status.idle": "2024-04-29T09:44:35.410947Z",
     "shell.execute_reply": "2024-04-29T09:44:35.409898Z"
    },
    "papermill": {
     "duration": 0.313867,
     "end_time": "2024-04-29T09:44:35.413852",
     "exception": false,
     "start_time": "2024-04-29T09:44:35.099985",
     "status": "completed"
    },
    "tags": []
   },
   "outputs": [
    {
     "data": {
      "text/html": [
       "<div>\n",
       "<style scoped>\n",
       "    .dataframe tbody tr th:only-of-type {\n",
       "        vertical-align: middle;\n",
       "    }\n",
       "\n",
       "    .dataframe tbody tr th {\n",
       "        vertical-align: top;\n",
       "    }\n",
       "\n",
       "    .dataframe thead th {\n",
       "        text-align: right;\n",
       "    }\n",
       "</style>\n",
       "<table border=\"1\" class=\"dataframe\">\n",
       "  <thead>\n",
       "    <tr style=\"text-align: right;\">\n",
       "      <th></th>\n",
       "      <th>drug_name</th>\n",
       "      <th>medical_condition</th>\n",
       "      <th>side_effects</th>\n",
       "      <th>generic_name</th>\n",
       "      <th>drug_classes</th>\n",
       "      <th>brand_names</th>\n",
       "      <th>activity</th>\n",
       "      <th>rx_otc</th>\n",
       "      <th>pregnancy_category</th>\n",
       "      <th>csa</th>\n",
       "      <th>alcohol</th>\n",
       "      <th>related_drugs</th>\n",
       "      <th>medical_condition_description</th>\n",
       "      <th>rating</th>\n",
       "      <th>no_of_reviews</th>\n",
       "      <th>drug_link</th>\n",
       "      <th>medical_condition_url</th>\n",
       "    </tr>\n",
       "  </thead>\n",
       "  <tbody>\n",
       "    <tr>\n",
       "      <th>1375</th>\n",
       "      <td>neomycin</td>\n",
       "      <td>Diarrhea</td>\n",
       "      <td>hives ; difficult breathing; swelling of your ...</td>\n",
       "      <td>neomycin</td>\n",
       "      <td>Aminoglycosides</td>\n",
       "      <td>Neo-Fradin</td>\n",
       "      <td>4%</td>\n",
       "      <td>Rx</td>\n",
       "      <td>D</td>\n",
       "      <td>N</td>\n",
       "      <td>NaN</td>\n",
       "      <td>erythromycin: https://www.drugs.com/erythromyc...</td>\n",
       "      <td>Diarrhea Other names: Frequent bowel movements...</td>\n",
       "      <td>1.0</td>\n",
       "      <td>1.0</td>\n",
       "      <td>https://www.drugs.com/mtm/neomycin.html</td>\n",
       "      <td>https://www.drugs.com/condition/diarrhea.html</td>\n",
       "    </tr>\n",
       "    <tr>\n",
       "      <th>2779</th>\n",
       "      <td>penicillamine</td>\n",
       "      <td>Rheumatoid Arthritis</td>\n",
       "      <td>hives , rash; swollen glands; difficult breath...</td>\n",
       "      <td>penicillamine</td>\n",
       "      <td>Antirheumatics</td>\n",
       "      <td>Cuprimine, Depen, D-Penamine</td>\n",
       "      <td>0%</td>\n",
       "      <td>Rx</td>\n",
       "      <td>D</td>\n",
       "      <td>N</td>\n",
       "      <td>NaN</td>\n",
       "      <td>NaN</td>\n",
       "      <td>Rheumatoid Arthritis Other names: Arthritis; A...</td>\n",
       "      <td>NaN</td>\n",
       "      <td>NaN</td>\n",
       "      <td>https://www.drugs.com/mtm/penicillamine.html</td>\n",
       "      <td>https://www.drugs.com/condition/rheumatoid-art...</td>\n",
       "    </tr>\n",
       "    <tr>\n",
       "      <th>883</th>\n",
       "      <td>Biotussin DAC</td>\n",
       "      <td>Colds &amp; Flu</td>\n",
       "      <td>hives ; difficult breathing; swelling of your ...</td>\n",
       "      <td>codeine, guaifenesin, and pseudoephedrine</td>\n",
       "      <td>Upper respiratory combinations</td>\n",
       "      <td>Ambifed CD, Cheratussin DAC, Guaifen DAC, Lort...</td>\n",
       "      <td>1%</td>\n",
       "      <td>Rx/OTC</td>\n",
       "      <td>C</td>\n",
       "      <td>M</td>\n",
       "      <td>X</td>\n",
       "      <td>Benadryl: https://www.drugs.com/benadryl.html ...</td>\n",
       "      <td>Cold Symptoms Other names: Cold; Common Cold; ...</td>\n",
       "      <td>NaN</td>\n",
       "      <td>NaN</td>\n",
       "      <td>https://www.drugs.com/mtm/biotussin-dac.html</td>\n",
       "      <td>https://www.drugs.com/condition/cold-symptoms....</td>\n",
       "    </tr>\n",
       "    <tr>\n",
       "      <th>153</th>\n",
       "      <td>Brevoxyl Acne Wash Kit</td>\n",
       "      <td>Acne</td>\n",
       "      <td>Brevoxyl Acne Wash Kit can cause a rare but se...</td>\n",
       "      <td>benzoyl peroxide topical</td>\n",
       "      <td>Topical acne agents</td>\n",
       "      <td>Acne-Clear, Benzac AC, BenzePrO, Benziq, Clear...</td>\n",
       "      <td>0%</td>\n",
       "      <td>Rx</td>\n",
       "      <td>C</td>\n",
       "      <td>N</td>\n",
       "      <td>NaN</td>\n",
       "      <td>NaN</td>\n",
       "      <td>Acne Other names: Acne Vulgaris; Blackheads; B...</td>\n",
       "      <td>NaN</td>\n",
       "      <td>NaN</td>\n",
       "      <td>https://www.drugs.com/mtm/brevoxyl-acne-wash-k...</td>\n",
       "      <td>https://www.drugs.com/condition/acne.html</td>\n",
       "    </tr>\n",
       "    <tr>\n",
       "      <th>1574</th>\n",
       "      <td>calcium carbonate</td>\n",
       "      <td>GERD (Heartburn)</td>\n",
       "      <td>hives ; difficulty breathing; swelling of your...</td>\n",
       "      <td>calcium carbonate</td>\n",
       "      <td>Antacids, Minerals and electrolytes</td>\n",
       "      <td>Calci-Chew, Nephro Calci, Dicarbosil, Equilet,...</td>\n",
       "      <td>2%</td>\n",
       "      <td>OTC</td>\n",
       "      <td>N</td>\n",
       "      <td>N</td>\n",
       "      <td>NaN</td>\n",
       "      <td>NaN</td>\n",
       "      <td>GERD Other names: Acid reflux; Esophageal Refl...</td>\n",
       "      <td>4.0</td>\n",
       "      <td>6.0</td>\n",
       "      <td>https://www.drugs.com/mtm/calcium-carbonate.html</td>\n",
       "      <td>https://www.drugs.com/condition/gastroesophage...</td>\n",
       "    </tr>\n",
       "  </tbody>\n",
       "</table>\n",
       "</div>"
      ],
      "text/plain": [
       "                   drug_name     medical_condition  \\\n",
       "1375                neomycin              Diarrhea   \n",
       "2779           penicillamine  Rheumatoid Arthritis   \n",
       "883            Biotussin DAC           Colds & Flu   \n",
       "153   Brevoxyl Acne Wash Kit                  Acne   \n",
       "1574       calcium carbonate      GERD (Heartburn)   \n",
       "\n",
       "                                           side_effects  \\\n",
       "1375  hives ; difficult breathing; swelling of your ...   \n",
       "2779  hives , rash; swollen glands; difficult breath...   \n",
       "883   hives ; difficult breathing; swelling of your ...   \n",
       "153   Brevoxyl Acne Wash Kit can cause a rare but se...   \n",
       "1574  hives ; difficulty breathing; swelling of your...   \n",
       "\n",
       "                                   generic_name  \\\n",
       "1375                                   neomycin   \n",
       "2779                              penicillamine   \n",
       "883   codeine, guaifenesin, and pseudoephedrine   \n",
       "153                    benzoyl peroxide topical   \n",
       "1574                          calcium carbonate   \n",
       "\n",
       "                             drug_classes  \\\n",
       "1375                      Aminoglycosides   \n",
       "2779                       Antirheumatics   \n",
       "883        Upper respiratory combinations   \n",
       "153                   Topical acne agents   \n",
       "1574  Antacids, Minerals and electrolytes   \n",
       "\n",
       "                                            brand_names activity  rx_otc  \\\n",
       "1375                                         Neo-Fradin       4%      Rx   \n",
       "2779                       Cuprimine, Depen, D-Penamine       0%      Rx   \n",
       "883   Ambifed CD, Cheratussin DAC, Guaifen DAC, Lort...       1%  Rx/OTC   \n",
       "153   Acne-Clear, Benzac AC, BenzePrO, Benziq, Clear...       0%      Rx   \n",
       "1574  Calci-Chew, Nephro Calci, Dicarbosil, Equilet,...       2%     OTC   \n",
       "\n",
       "     pregnancy_category csa alcohol  \\\n",
       "1375                  D   N     NaN   \n",
       "2779                  D   N     NaN   \n",
       "883                   C   M       X   \n",
       "153                   C   N     NaN   \n",
       "1574                  N   N     NaN   \n",
       "\n",
       "                                          related_drugs  \\\n",
       "1375  erythromycin: https://www.drugs.com/erythromyc...   \n",
       "2779                                                NaN   \n",
       "883   Benadryl: https://www.drugs.com/benadryl.html ...   \n",
       "153                                                 NaN   \n",
       "1574                                                NaN   \n",
       "\n",
       "                          medical_condition_description  rating  \\\n",
       "1375  Diarrhea Other names: Frequent bowel movements...     1.0   \n",
       "2779  Rheumatoid Arthritis Other names: Arthritis; A...     NaN   \n",
       "883   Cold Symptoms Other names: Cold; Common Cold; ...     NaN   \n",
       "153   Acne Other names: Acne Vulgaris; Blackheads; B...     NaN   \n",
       "1574  GERD Other names: Acid reflux; Esophageal Refl...     4.0   \n",
       "\n",
       "      no_of_reviews                                          drug_link  \\\n",
       "1375            1.0            https://www.drugs.com/mtm/neomycin.html   \n",
       "2779            NaN       https://www.drugs.com/mtm/penicillamine.html   \n",
       "883             NaN       https://www.drugs.com/mtm/biotussin-dac.html   \n",
       "153             NaN  https://www.drugs.com/mtm/brevoxyl-acne-wash-k...   \n",
       "1574            6.0   https://www.drugs.com/mtm/calcium-carbonate.html   \n",
       "\n",
       "                                  medical_condition_url  \n",
       "1375      https://www.drugs.com/condition/diarrhea.html  \n",
       "2779  https://www.drugs.com/condition/rheumatoid-art...  \n",
       "883   https://www.drugs.com/condition/cold-symptoms....  \n",
       "153           https://www.drugs.com/condition/acne.html  \n",
       "1574  https://www.drugs.com/condition/gastroesophage...  "
      ]
     },
     "execution_count": 2,
     "metadata": {},
     "output_type": "execute_result"
    }
   ],
   "source": [
    "df = pd.read_csv(\"/workspaces/codespaces-jupyter/data/drugs_side_effects_drugs_com.csv\")\n",
    "df.sample(5)"
   ]
  },
  {
   "cell_type": "code",
   "execution_count": 3,
   "id": "f122a5ae",
   "metadata": {
    "execution": {
     "iopub.execute_input": "2024-04-29T09:44:35.425020Z",
     "iopub.status.busy": "2024-04-29T09:44:35.424401Z",
     "iopub.status.idle": "2024-04-29T09:44:35.454326Z",
     "shell.execute_reply": "2024-04-29T09:44:35.452882Z"
    },
    "papermill": {
     "duration": 0.038888,
     "end_time": "2024-04-29T09:44:35.456886",
     "exception": false,
     "start_time": "2024-04-29T09:44:35.417998",
     "status": "completed"
    },
    "tags": []
   },
   "outputs": [
    {
     "name": "stdout",
     "output_type": "stream",
     "text": [
      "Duplicate Rows:  Empty DataFrame\n",
      "Columns: [drug_name, medical_condition, side_effects, generic_name, drug_classes, brand_names, activity, rx_otc, pregnancy_category, csa, alcohol, related_drugs, medical_condition_description, rating, no_of_reviews, drug_link, medical_condition_url]\n",
      "Index: []\n"
     ]
    }
   ],
   "source": [
    "# Identifying duplicates\n",
    "duplicates = df[df.duplicated()]\n",
    "\n",
    "# Displaying the duplicate rows\n",
    "print(\"Duplicate Rows: \", duplicates)"
   ]
  },
  {
   "cell_type": "code",
   "execution_count": 4,
   "id": "60ffc373",
   "metadata": {
    "execution": {
     "iopub.execute_input": "2024-04-29T09:44:35.466855Z",
     "iopub.status.busy": "2024-04-29T09:44:35.466449Z",
     "iopub.status.idle": "2024-04-29T09:44:35.477456Z",
     "shell.execute_reply": "2024-04-29T09:44:35.476629Z"
    },
    "papermill": {
     "duration": 0.018551,
     "end_time": "2024-04-29T09:44:35.479590",
     "exception": false,
     "start_time": "2024-04-29T09:44:35.461039",
     "status": "completed"
    },
    "tags": []
   },
   "outputs": [
    {
     "data": {
      "text/plain": [
       "(2931, 12)"
      ]
     },
     "execution_count": 4,
     "metadata": {},
     "output_type": "execute_result"
    }
   ],
   "source": [
    "# Data Cleaning¶\n",
    "# Drop unwanted columns(not relevant for our model)\n",
    "df = df.drop(['no_of_reviews','drug_link','medical_condition_url','activity','rating'], axis = 1)\n",
    "df.shape"
   ]
  },
  {
   "cell_type": "code",
   "execution_count": 5,
   "id": "846b17cc",
   "metadata": {
    "execution": {
     "iopub.execute_input": "2024-04-29T09:44:35.490860Z",
     "iopub.status.busy": "2024-04-29T09:44:35.489753Z",
     "iopub.status.idle": "2024-04-29T09:44:35.508165Z",
     "shell.execute_reply": "2024-04-29T09:44:35.507411Z"
    },
    "papermill": {
     "duration": 0.026663,
     "end_time": "2024-04-29T09:44:35.510598",
     "exception": false,
     "start_time": "2024-04-29T09:44:35.483935",
     "status": "completed"
    },
    "tags": []
   },
   "outputs": [
    {
     "data": {
      "text/plain": [
       "drug_name                        0\n",
       "medical_condition                0\n",
       "side_effects                     0\n",
       "generic_name                     0\n",
       "drug_classes                     0\n",
       "brand_names                      0\n",
       "rx_otc                           0\n",
       "pregnancy_category               0\n",
       "csa                              0\n",
       "alcohol                          0\n",
       "related_drugs                    0\n",
       "medical_condition_description    0\n",
       "dtype: int64"
      ]
     },
     "execution_count": 5,
     "metadata": {},
     "output_type": "execute_result"
    }
   ],
   "source": [
    "# Changing NaN to unknown\n",
    "df['side_effects'] = df['side_effects'].fillna(value='Unknown')\n",
    "# df['side_effects'].isnull().sum()\n",
    "df['generic_name'] = df['generic_name'].fillna(value='Unknown')\n",
    "# df['generic_name'].isnull().sum()\n",
    "df['drug_classes'] = df['drug_classes'].fillna(value='Unknown')\n",
    "# df['drug_classes'].isnull().sum()\n",
    "df['brand_names'] = df['brand_names'].fillna(value='Unknown')\n",
    "# df['brand_names'].isnull().sum()\n",
    "df['pregnancy_category'] = df['pregnancy_category'].fillna(value='Unknown')\n",
    "# df['pregnancy_category'].isnull().sum()\n",
    "df['alcohol'] = df['alcohol'].fillna(value='Unknown')\n",
    "\n",
    "# df['alcohol'].isnull().sum()\n",
    "# df['medical_condition_description'] = df['medical_condition_description'].fillna(\n",
    "#     value='Unknown')\n",
    "# df['medical_condition_description'].isnull().sum()\n",
    "\n",
    "df['rx_otc'] = df['rx_otc'].fillna(value='Unknown')\n",
    "\n",
    "df['related_drugs'] = df['related_drugs'].fillna(value='Unknown')\n",
    "\n",
    "df.isnull().sum()"
   ]
  },
  {
   "cell_type": "code",
   "execution_count": 6,
   "id": "5bbea3ea",
   "metadata": {
    "execution": {
     "iopub.execute_input": "2024-04-29T09:44:35.521390Z",
     "iopub.status.busy": "2024-04-29T09:44:35.520499Z",
     "iopub.status.idle": "2024-04-29T09:44:38.552711Z",
     "shell.execute_reply": "2024-04-29T09:44:38.551601Z"
    },
    "papermill": {
     "duration": 3.041005,
     "end_time": "2024-04-29T09:44:38.555928",
     "exception": false,
     "start_time": "2024-04-29T09:44:35.514923",
     "status": "completed"
    },
    "tags": []
   },
   "outputs": [
    {
     "name": "stdout",
     "output_type": "stream",
     "text": [
      "Accuracy: 0.7955706984667802\n",
      "Classification Report:\n",
      "                       precision    recall  f1-score   support\n",
      "\n",
      "                ADHD       1.00      0.77      0.87        13\n",
      "            AIDS/HIV       0.90      0.95      0.93        20\n",
      "                Acne       0.87      0.98      0.92        48\n",
      "           Allergies       1.00      0.14      0.25         7\n",
      "         Alzheimer's       0.88      0.88      0.88         8\n",
      "              Angina       0.94      0.84      0.89        19\n",
      "             Anxiety       0.60      0.25      0.35        12\n",
      "              Asthma       0.33      0.30      0.32        10\n",
      "    Bipolar Disorder       0.33      0.40      0.36         5\n",
      "          Bronchitis       0.60      0.75      0.67         8\n",
      "                COPD       0.75      0.67      0.71         9\n",
      "              Cancer       1.00      1.00      1.00         3\n",
      "         Cholesterol       1.00      0.50      0.67        10\n",
      "         Colds & Flu       0.81      1.00      0.89        38\n",
      "        Constipation       1.00      0.88      0.93        16\n",
      "            Covid 19       0.50      0.50      0.50         6\n",
      "          Depression       0.33      0.80      0.47         5\n",
      "   Diabetes (Type 1)       0.92      1.00      0.96        11\n",
      "   Diabetes (Type 2)       0.83      1.00      0.91        20\n",
      "            Diarrhea       0.89      0.73      0.80        11\n",
      "              Eczema       0.81      0.81      0.81        27\n",
      "Erectile Dysfunction       1.00      1.00      1.00         1\n",
      "    GERD (Heartburn)       1.00      0.93      0.97        15\n",
      "    Gastrointestinal       0.00      0.00      0.00         2\n",
      "                Gout       1.00      0.50      0.67         2\n",
      "            Hayfever       0.90      0.83      0.86        23\n",
      "              Herpes       1.00      1.00      1.00         2\n",
      "        Hypertension       0.80      0.86      0.83        37\n",
      "      Hypothyroidism       1.00      1.00      1.00         2\n",
      "         IBD (Bowel)       0.40      0.67      0.50         3\n",
      "        Incontinence       1.00      1.00      1.00         1\n",
      "            Insomnia       0.80      0.33      0.47        12\n",
      "           Menopause       0.00      0.00      0.00         1\n",
      "            Migraine       0.73      0.69      0.71        16\n",
      "      Osteoarthritis       0.77      0.82      0.79        28\n",
      "        Osteoporosis       0.82      1.00      0.90         9\n",
      "                Pain       0.77      0.85      0.81        52\n",
      "           Pneumonia       0.69      0.69      0.69        16\n",
      "           Psoriasis       0.62      0.79      0.70        19\n",
      "Rheumatoid Arthritis       1.00      0.57      0.73         7\n",
      "       Schizophrenia       0.20      0.20      0.20         5\n",
      "            Seizures       0.85      0.79      0.81        14\n",
      "              Stroke       0.00      0.00      0.00         2\n",
      "           Swine Flu       1.00      1.00      1.00         1\n",
      "                 UTI       1.00      1.00      1.00         8\n",
      "         Weight Loss       1.00      1.00      1.00         3\n",
      "\n",
      "            accuracy                           0.80       587\n",
      "           macro avg       0.75      0.71      0.71       587\n",
      "        weighted avg       0.80      0.80      0.79       587\n",
      "\n"
     ]
    },
    {
     "name": "stderr",
     "output_type": "stream",
     "text": [
      "/home/codespace/.local/lib/python3.10/site-packages/sklearn/metrics/_classification.py:1517: UndefinedMetricWarning: Precision is ill-defined and being set to 0.0 in labels with no predicted samples. Use `zero_division` parameter to control this behavior.\n",
      "  _warn_prf(average, modifier, f\"{metric.capitalize()} is\", len(result))\n",
      "/home/codespace/.local/lib/python3.10/site-packages/sklearn/metrics/_classification.py:1517: UndefinedMetricWarning: Precision is ill-defined and being set to 0.0 in labels with no predicted samples. Use `zero_division` parameter to control this behavior.\n",
      "  _warn_prf(average, modifier, f\"{metric.capitalize()} is\", len(result))\n",
      "/home/codespace/.local/lib/python3.10/site-packages/sklearn/metrics/_classification.py:1517: UndefinedMetricWarning: Precision is ill-defined and being set to 0.0 in labels with no predicted samples. Use `zero_division` parameter to control this behavior.\n",
      "  _warn_prf(average, modifier, f\"{metric.capitalize()} is\", len(result))\n"
     ]
    }
   ],
   "source": [
    "from sklearn.model_selection import train_test_split\n",
    "from sklearn.ensemble import RandomForestClassifier\n",
    "from sklearn.preprocessing import OneHotEncoder\n",
    "from sklearn.compose import ColumnTransformer\n",
    "from sklearn.pipeline import Pipeline\n",
    "from sklearn.metrics import accuracy_score, classification_report\n",
    "\n",
    "categorical_features = ['drug_classes', 'rx_otc',\n",
    "                        'pregnancy_category', 'csa', 'alcohol', 'brand_names', 'side_effects']\n",
    "target_column = 'medical_condition'\n",
    "\n",
    "# Select features and target\n",
    "X = df[categorical_features]\n",
    "y = df[target_column]\n",
    "\n",
    "# Define the transformer for one-hot encoding\n",
    "preprocessor = ColumnTransformer(\n",
    "    transformers=[\n",
    "        ('cat', OneHotEncoder(handle_unknown='ignore'), categorical_features)\n",
    "    ])\n",
    "\n",
    "# Create the pipeline\n",
    "model = Pipeline(steps=[\n",
    "    ('preprocessor', preprocessor),\n",
    "    ('classifier', RandomForestClassifier(n_estimators=100))\n",
    "])\n",
    "\n",
    "# Split the data into training and test sets\n",
    "X_train, X_test, y_train, y_test = train_test_split(\n",
    "    X, y, test_size=0.2, random_state=42)\n",
    "\n",
    "# Train the model\n",
    "model.fit(X_train, y_train)\n",
    "\n",
    "# Evaluate the model\n",
    "y_pred = model.predict(X_test)\n",
    "print(f\"Accuracy: {accuracy_score(y_test, y_pred)}\")\n",
    "print(\"Classification Report:\\n\", classification_report(y_test, y_pred))\n",
    "\n"
   ]
  },
  {
   "cell_type": "code",
   "execution_count": 7,
   "id": "d7df988d",
   "metadata": {
    "execution": {
     "iopub.execute_input": "2024-04-29T09:44:38.567272Z",
     "iopub.status.busy": "2024-04-29T09:44:38.566263Z",
     "iopub.status.idle": "2024-04-29T09:46:19.951658Z",
     "shell.execute_reply": "2024-04-29T09:46:19.949937Z"
    },
    "papermill": {
     "duration": 101.399309,
     "end_time": "2024-04-29T09:46:19.959888",
     "exception": false,
     "start_time": "2024-04-29T09:44:38.560579",
     "status": "completed"
    },
    "tags": []
   },
   "outputs": [
    {
     "name": "stdout",
     "output_type": "stream",
     "text": [
      "Fitting 3 folds for each of 108 candidates, totalling 324 fits\n"
     ]
    },
    {
     "name": "stdout",
     "output_type": "stream",
     "text": [
      "Best parameters: {'classifier__max_depth': None, 'classifier__min_samples_leaf': 1, 'classifier__min_samples_split': 2, 'classifier__n_estimators': 200}\n",
      "Accuracy: 0.8006814310051107\n",
      "Classification Report:\n",
      "                       precision    recall  f1-score   support\n",
      "\n",
      "                ADHD       1.00      0.85      0.92        13\n",
      "            AIDS/HIV       0.90      0.95      0.93        20\n",
      "                Acne       0.90      0.98      0.94        48\n",
      "           Allergies       1.00      0.14      0.25         7\n",
      "         Alzheimer's       0.88      0.88      0.88         8\n",
      "              Angina       0.93      0.74      0.82        19\n",
      "             Anxiety       0.50      0.25      0.33        12\n",
      "              Asthma       0.33      0.30      0.32        10\n",
      "    Bipolar Disorder       0.43      0.60      0.50         5\n",
      "          Bronchitis       0.60      0.75      0.67         8\n",
      "                COPD       0.67      0.44      0.53         9\n",
      "              Cancer       0.75      1.00      0.86         3\n",
      "         Cholesterol       1.00      0.70      0.82        10\n",
      "         Colds & Flu       0.83      1.00      0.90        38\n",
      "        Constipation       1.00      0.88      0.93        16\n",
      "            Covid 19       0.75      0.50      0.60         6\n",
      "          Depression       0.38      1.00      0.56         5\n",
      "   Diabetes (Type 1)       0.92      1.00      0.96        11\n",
      "   Diabetes (Type 2)       0.77      1.00      0.87        20\n",
      "            Diarrhea       1.00      0.82      0.90        11\n",
      "              Eczema       0.79      0.81      0.80        27\n",
      "Erectile Dysfunction       1.00      1.00      1.00         1\n",
      "    GERD (Heartburn)       1.00      0.87      0.93        15\n",
      "    Gastrointestinal       1.00      0.00      0.00         2\n",
      "                Gout       1.00      0.50      0.67         2\n",
      "            Hayfever       0.86      0.83      0.84        23\n",
      "              Herpes       1.00      1.00      1.00         2\n",
      "        Hypertension       0.79      0.92      0.85        37\n",
      "      Hypothyroidism       1.00      1.00      1.00         2\n",
      "         IBD (Bowel)       0.25      0.33      0.29         3\n",
      "        Incontinence       1.00      1.00      1.00         1\n",
      "            Insomnia       0.80      0.33      0.47        12\n",
      "           Menopause       1.00      0.00      0.00         1\n",
      "            Migraine       0.73      0.69      0.71        16\n",
      "      Osteoarthritis       0.77      0.86      0.81        28\n",
      "        Osteoporosis       0.69      1.00      0.82         9\n",
      "                Pain       0.82      0.87      0.84        52\n",
      "           Pneumonia       0.65      0.69      0.67        16\n",
      "           Psoriasis       0.68      0.79      0.73        19\n",
      "Rheumatoid Arthritis       1.00      0.43      0.60         7\n",
      "       Schizophrenia       0.25      0.20      0.22         5\n",
      "            Seizures       0.92      0.79      0.85        14\n",
      "              Stroke       1.00      0.00      0.00         2\n",
      "           Swine Flu       1.00      1.00      1.00         1\n",
      "                 UTI       1.00      1.00      1.00         8\n",
      "         Weight Loss       1.00      1.00      1.00         3\n",
      "\n",
      "            accuracy                           0.80       587\n",
      "           macro avg       0.82      0.71      0.71       587\n",
      "        weighted avg       0.81      0.80      0.79       587\n",
      "\n"
     ]
    }
   ],
   "source": [
    "from sklearn.model_selection import GridSearchCV, StratifiedKFold\n",
    "\n",
    "param_grid = {\n",
    "    # Number of trees in the forest\n",
    "    'classifier__n_estimators': [100, 200, 300],\n",
    "    'classifier__max_depth': [None, 10, 20, 30],  # Maximum depth of the tree\n",
    "    # Minimum number of samples required to split an internal node\n",
    "    'classifier__min_samples_split': [2, 5, 10],\n",
    "    # Minimum number of samples required at each leaf node\n",
    "    'classifier__min_samples_leaf': [1, 2, 4]\n",
    "}\n",
    "skf = StratifiedKFold(n_splits=3)\n",
    "grid_search = GridSearchCV(model, param_grid, cv=skf, verbose=1, n_jobs=-1)\n",
    "\n",
    "grid_search.fit(X_train, y_train)\n",
    "\n",
    "print(\"Best parameters:\", grid_search.best_params_)\n",
    "best_model = grid_search.best_estimator_\n",
    "y_pred = best_model.predict(X_test)\n",
    "print(f\"Accuracy: {accuracy_score(y_test, y_pred)}\")\n",
    "print(\"Classification Report:\\n\", classification_report(y_test, y_pred, zero_division=1))"
   ]
  },
  {
   "cell_type": "code",
   "execution_count": 8,
   "id": "e0575144",
   "metadata": {
    "execution": {
     "iopub.execute_input": "2024-04-29T09:46:19.973085Z",
     "iopub.status.busy": "2024-04-29T09:46:19.972555Z",
     "iopub.status.idle": "2024-04-29T09:46:19.978595Z",
     "shell.execute_reply": "2024-04-29T09:46:19.977185Z"
    },
    "papermill": {
     "duration": 0.015552,
     "end_time": "2024-04-29T09:46:19.980884",
     "exception": false,
     "start_time": "2024-04-29T09:46:19.965332",
     "status": "completed"
    },
    "tags": []
   },
   "outputs": [],
   "source": [
    "# # Frequency encoding\n",
    "# df.info()\n",
    "# print(\"Beginning frequency encoding\\n\")\n",
    "# # List of columns to perform frequency encoding on\n",
    "# columns_to_encode = ['drug_name', 'generic_name', 'brand_names', 'related_drugs']\n",
    "\n",
    "# # Perform frequency encoding for each column\n",
    "# for column in columns_to_encode:\n",
    "#     frequency_map = df[column].value_counts(normalize=True)\n",
    "#     df[column + '_frequency_encoded'] = df[column].map(frequency_map)\n",
    "# print(\"\\n\")\n",
    "# df.info()"
   ]
  },
  {
   "cell_type": "code",
   "execution_count": 9,
   "id": "7cd45b92",
   "metadata": {
    "execution": {
     "iopub.execute_input": "2024-04-29T09:46:19.993197Z",
     "iopub.status.busy": "2024-04-29T09:46:19.991898Z",
     "iopub.status.idle": "2024-04-29T09:46:19.997575Z",
     "shell.execute_reply": "2024-04-29T09:46:19.996699Z"
    },
    "papermill": {
     "duration": 0.014082,
     "end_time": "2024-04-29T09:46:19.999780",
     "exception": false,
     "start_time": "2024-04-29T09:46:19.985698",
     "status": "completed"
    },
    "tags": []
   },
   "outputs": [],
   "source": [
    "# from sklearn.model_selection import train_test_split\n",
    "# from sklearn.ensemble import RandomForestClassifier\n",
    "# from sklearn.metrics import classification_report\n",
    "\n",
    "# df['related_drugs'] = df['related_drugs'].fillna(value='Unknown') #  Changing the NaN values to unknown\n",
    "# # Assuming 'X' contains the features and 'y' contains the target variable\n",
    "# # X = df.columns\n",
    "# X = df.drop(columns=['drug_name', 'generic_name', 'brand_names', 'related_drugs', 'medical_condition', 'medical_condition_description', 'side_effects'], axis=1)\n",
    "\n",
    "# y = df['drug_name']\n",
    "\n",
    "# # Step 2: Train-test split\n",
    "# X_train, X_test, y_train, y_test = train_test_split(X, y, test_size=0.2, random_state=42)\n",
    "\n",
    "# # Step 3: Model training\n",
    "# rf_classifier = RandomForestClassifier(random_state=42)\n",
    "# rf_classifier.fit(X_train, y_train)\n",
    "\n",
    "# # Step 4: Model evaluation\n",
    "# y_pred = rf_classifier.predict(X_test)\n",
    "# print(classification_report(y_test, y_pred))\n",
    "\n",
    "# # Step 6: Feature importance\n",
    "# feature_importances = rf_classifier.feature_importances_\n",
    "# print(\"Feature Importance:\")\n",
    "# for feature, importance in zip(X.columns, feature_importances):\n",
    "#     print(f\"{feature}: {importance}\")\n"
   ]
  }
 ],
 "metadata": {
  "kaggle": {
   "accelerator": "none",
   "dataSources": [
    {
     "datasetId": 2720233,
     "sourceId": 4701313,
     "sourceType": "datasetVersion"
    }
   ],
   "dockerImageVersionId": 30698,
   "isGpuEnabled": false,
   "isInternetEnabled": false,
   "language": "python",
   "sourceType": "notebook"
  },
  "kernelspec": {
   "display_name": "Python 3",
   "language": "python",
   "name": "python3"
  },
  "language_info": {
   "codemirror_mode": {
    "name": "ipython",
    "version": 3
   },
   "file_extension": ".py",
   "mimetype": "text/x-python",
   "name": "python",
   "nbconvert_exporter": "python",
   "pygments_lexer": "ipython3",
   "version": "3.10.13"
  },
  "papermill": {
   "default_parameters": {},
   "duration": 112.806947,
   "end_time": "2024-04-29T09:46:22.628794",
   "environment_variables": {},
   "exception": null,
   "input_path": "__notebook__.ipynb",
   "output_path": "__notebook__.ipynb",
   "parameters": {},
   "start_time": "2024-04-29T09:44:29.821847",
   "version": "2.5.0"
  }
 },
 "nbformat": 4,
 "nbformat_minor": 5
}
